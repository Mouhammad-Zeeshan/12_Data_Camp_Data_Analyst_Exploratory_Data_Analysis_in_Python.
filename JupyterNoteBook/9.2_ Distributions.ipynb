{
 "cells": [
  {
   "cell_type": "code",
   "execution_count": 44,
   "id": "b72f6fdb",
   "metadata": {},
   "outputs": [],
   "source": [
    "import pandas as pd\n",
    "import numpy as np"
   ]
  },
  {
   "cell_type": "code",
   "execution_count": 45,
   "id": "67975468",
   "metadata": {},
   "outputs": [],
   "source": [
    "gss = pd.read_hdf(r\"C:\\Muhammad Zeeshan\\ComputerAndProgramming\\Data Camp Journey\\02-Data Analyst with Python\\09 - Exploratary Data Analysis with Python\\DataSet\\gss.hdf5\")"
   ]
  },
  {
   "cell_type": "code",
   "execution_count": 46,
   "id": "59c5d6f2",
   "metadata": {},
   "outputs": [
    {
     "data": {
      "text/html": [
       "<div>\n",
       "<style scoped>\n",
       "    .dataframe tbody tr th:only-of-type {\n",
       "        vertical-align: middle;\n",
       "    }\n",
       "\n",
       "    .dataframe tbody tr th {\n",
       "        vertical-align: top;\n",
       "    }\n",
       "\n",
       "    .dataframe thead th {\n",
       "        text-align: right;\n",
       "    }\n",
       "</style>\n",
       "<table border=\"1\" class=\"dataframe\">\n",
       "  <thead>\n",
       "    <tr style=\"text-align: right;\">\n",
       "      <th></th>\n",
       "      <th>year</th>\n",
       "      <th>age</th>\n",
       "      <th>cohort</th>\n",
       "      <th>sex</th>\n",
       "      <th>race</th>\n",
       "      <th>educ</th>\n",
       "      <th>realinc</th>\n",
       "      <th>gunlaw</th>\n",
       "      <th>grass</th>\n",
       "      <th>wtssall</th>\n",
       "    </tr>\n",
       "  </thead>\n",
       "  <tbody>\n",
       "    <tr>\n",
       "      <th>0</th>\n",
       "      <td>1972</td>\n",
       "      <td>26.0</td>\n",
       "      <td>1946.0</td>\n",
       "      <td>1</td>\n",
       "      <td>1</td>\n",
       "      <td>18.0</td>\n",
       "      <td>13537.0</td>\n",
       "      <td>2.0</td>\n",
       "      <td>NaN</td>\n",
       "      <td>0.8893</td>\n",
       "    </tr>\n",
       "    <tr>\n",
       "      <th>1</th>\n",
       "      <td>1972</td>\n",
       "      <td>38.0</td>\n",
       "      <td>1934.0</td>\n",
       "      <td>2</td>\n",
       "      <td>1</td>\n",
       "      <td>12.0</td>\n",
       "      <td>18951.0</td>\n",
       "      <td>1.0</td>\n",
       "      <td>NaN</td>\n",
       "      <td>0.4446</td>\n",
       "    </tr>\n",
       "    <tr>\n",
       "      <th>2</th>\n",
       "      <td>1972</td>\n",
       "      <td>57.0</td>\n",
       "      <td>1915.0</td>\n",
       "      <td>1</td>\n",
       "      <td>1</td>\n",
       "      <td>12.0</td>\n",
       "      <td>30458.0</td>\n",
       "      <td>1.0</td>\n",
       "      <td>NaN</td>\n",
       "      <td>1.3339</td>\n",
       "    </tr>\n",
       "    <tr>\n",
       "      <th>3</th>\n",
       "      <td>1972</td>\n",
       "      <td>61.0</td>\n",
       "      <td>1911.0</td>\n",
       "      <td>2</td>\n",
       "      <td>1</td>\n",
       "      <td>14.0</td>\n",
       "      <td>37226.0</td>\n",
       "      <td>1.0</td>\n",
       "      <td>NaN</td>\n",
       "      <td>0.8893</td>\n",
       "    </tr>\n",
       "    <tr>\n",
       "      <th>4</th>\n",
       "      <td>1972</td>\n",
       "      <td>59.0</td>\n",
       "      <td>1913.0</td>\n",
       "      <td>1</td>\n",
       "      <td>1</td>\n",
       "      <td>12.0</td>\n",
       "      <td>30458.0</td>\n",
       "      <td>2.0</td>\n",
       "      <td>NaN</td>\n",
       "      <td>0.8893</td>\n",
       "    </tr>\n",
       "  </tbody>\n",
       "</table>\n",
       "</div>"
      ],
      "text/plain": [
       "   year   age  cohort  sex  race  educ  realinc  gunlaw  grass  wtssall\n",
       "0  1972  26.0  1946.0    1     1  18.0  13537.0     2.0    NaN   0.8893\n",
       "1  1972  38.0  1934.0    2     1  12.0  18951.0     1.0    NaN   0.4446\n",
       "2  1972  57.0  1915.0    1     1  12.0  30458.0     1.0    NaN   1.3339\n",
       "3  1972  61.0  1911.0    2     1  14.0  37226.0     1.0    NaN   0.8893\n",
       "4  1972  59.0  1913.0    1     1  12.0  30458.0     2.0    NaN   0.8893"
      ]
     },
     "execution_count": 46,
     "metadata": {},
     "output_type": "execute_result"
    }
   ],
   "source": [
    "gss.head()"
   ]
  },
  {
   "cell_type": "code",
   "execution_count": 47,
   "id": "839b8e04",
   "metadata": {},
   "outputs": [],
   "source": [
    "import empiricaldist as emp"
   ]
  },
  {
   "cell_type": "code",
   "execution_count": 48,
   "id": "2986e29f",
   "metadata": {},
   "outputs": [],
   "source": [
    "year = gss['year']"
   ]
  },
  {
   "cell_type": "code",
   "execution_count": 49,
   "id": "ef2276c2",
   "metadata": {},
   "outputs": [],
   "source": [
    "# # Compute the PMF for year\n",
    "# pmf_year = Pmf('year', normalize=False)\n",
    "\n",
    "# # Print the result\n",
    "# print(pmf_year)"
   ]
  },
  {
   "cell_type": "code",
   "execution_count": 50,
   "id": "d0bae619",
   "metadata": {},
   "outputs": [],
   "source": [
    "# # Select the age column\n",
    "# age = gss['age']\n",
    "\n",
    "# # Make a PMF of age\n",
    "# pmf_age = Pmf(age)\n",
    "\n",
    "# # Plot the PMF\n",
    "# pmf_age.bar()\n",
    "\n",
    "# # Label the axes\n",
    "# plt.xlabel('Age')\n",
    "# plt.ylabel('PMF')\n",
    "# plt.show()"
   ]
  },
  {
   "cell_type": "code",
   "execution_count": 51,
   "id": "a25491e3",
   "metadata": {},
   "outputs": [],
   "source": [
    "# # Select the age column\n",
    "# age = gss['age']\n",
    "\n",
    "# # Compute the CDF of age\n",
    "# cdf_age = Cdf(age)\n",
    "\n",
    "# # Calculate the CDF of 30\n",
    "# print(cdf_age[30])"
   ]
  },
  {
   "cell_type": "code",
   "execution_count": 52,
   "id": "9a3a52ec",
   "metadata": {},
   "outputs": [],
   "source": [
    "# # Calculate the 75th percentile \n",
    "# percentile_75th = cdf_income.inverse(0.75)\n",
    "\n",
    "# # Calculate the 25th percentile\n",
    "# percentile_25th = cdf_income.inverse(0.25)\n",
    "\n",
    "# # Calculate the interquartile range\n",
    "# iqr = percentile_75th - percentile_25th\n",
    "\n",
    "# # Print the interquartile range\n",
    "# print(iqr)"
   ]
  },
  {
   "cell_type": "code",
   "execution_count": 53,
   "id": "19445ab0",
   "metadata": {},
   "outputs": [],
   "source": [
    "# # Select realinc\n",
    "# income = gss[\"realinc\"]\n",
    "\n",
    "# # Make the CDF\n",
    "# cdf_income = Cdf(income)\n",
    "\n",
    "# # Plot it\n",
    "# cdf_income.plot()\n",
    "\n",
    "# # Label the axes\n",
    "# plt.xlabel('Income (1986 USD)')\n",
    "# plt.ylabel('CDF')\n",
    "# plt.show()"
   ]
  },
  {
   "cell_type": "code",
   "execution_count": 54,
   "id": "1a3ec4c5",
   "metadata": {},
   "outputs": [],
   "source": [
    "educ = gss[\"educ\"]"
   ]
  },
  {
   "cell_type": "code",
   "execution_count": null,
   "id": "110d1788",
   "metadata": {},
   "outputs": [],
   "source": []
  },
  {
   "cell_type": "code",
   "execution_count": 55,
   "id": "e120e6a8",
   "metadata": {},
   "outputs": [
    {
     "data": {
      "text/plain": [
       "33162"
      ]
     },
     "execution_count": 55,
     "metadata": {},
     "output_type": "execute_result"
    }
   ],
   "source": [
    "len(educ[educ<=12])"
   ]
  },
  {
   "cell_type": "code",
   "execution_count": 56,
   "id": "85a6add2",
   "metadata": {},
   "outputs": [
    {
     "data": {
      "text/plain": [
       "0.5308807991547402"
      ]
     },
     "execution_count": 56,
     "metadata": {},
     "output_type": "execute_result"
    }
   ],
   "source": [
    "33162/62466\n"
   ]
  },
  {
   "cell_type": "code",
   "execution_count": 57,
   "id": "447f5ebe",
   "metadata": {},
   "outputs": [
    {
     "name": "stdout",
     "output_type": "stream",
     "text": [
      "0.5308807991547402\n"
     ]
    }
   ],
   "source": [
    "# Select educ\n",
    "educ = gss['educ']\n",
    "\n",
    "# Bachelor's degree\n",
    "bach = (educ >= 16)\n",
    "\n",
    "# Associate degree\n",
    "assc = (educ >= 14) & (educ < 16)\n",
    "\n",
    "# High school\n",
    "high = (educ <= 12)\n",
    "print(high.mean())"
   ]
  },
  {
   "cell_type": "code",
   "execution_count": 58,
   "id": "c1b8adaa",
   "metadata": {},
   "outputs": [],
   "source": [
    "# income = gss['realinc']\n",
    "\n",
    "# # Plot the CDFs\n",
    "# Cdf(income[high]).plot(label='High school')\n",
    "# Cdf(income[assc]).plot(label='Associate')\n",
    "# Cdf(income[bach]).plot(label='Bachelor')\n",
    "\n",
    "# # Label the axes\n",
    "# plt.xlabel('Income (1986 USD)')\n",
    "# plt.ylabel('CDF')\n",
    "# plt.legend()\n",
    "# plt.show()"
   ]
  },
  {
   "cell_type": "code",
   "execution_count": 59,
   "id": "2d84940a",
   "metadata": {},
   "outputs": [
    {
     "name": "stdout",
     "output_type": "stream",
     "text": [
      "4.371148677933652 0.4290082383271419\n"
     ]
    }
   ],
   "source": [
    "# Extract realinc and compute its log\n",
    "income = gss['realinc']\n",
    "log_income = np.log10(income)\n",
    "\n",
    "# Compute mean and standard deviation\n",
    "mean = log_income.mean()\n",
    "std = log_income.std()\n",
    "print(mean, std)\n",
    "\n",
    "# Make a norm object\n",
    "from scipy.stats import norm\n",
    "dist = norm(mean, std)"
   ]
  },
  {
   "cell_type": "code",
   "execution_count": null,
   "id": "f5eefa43",
   "metadata": {},
   "outputs": [],
   "source": [
    "# # Evaluate the model CDF\n",
    "# xs = np.linspace(2, 5.5)\n",
    "# ys = dist.cdf(xs)\n",
    "\n",
    "# # Plot the model CDF\n",
    "# plt.clf()\n",
    "# plt.plot(xs, ys, color='gray')\n",
    "\n",
    "# # Create and plot the Cdf of log_income\n",
    "# Cdf(log_income).plot()\n",
    "    \n",
    "# # Label the axes\n",
    "# plt.xlabel('log10 of realinc')\n",
    "# plt.ylabel('CDF')\n",
    "# plt.show()"
   ]
  },
  {
   "cell_type": "code",
   "execution_count": null,
   "id": "3e127027",
   "metadata": {},
   "outputs": [],
   "source": [
    "# # Evaluate the normal PDF\n",
    "# xs = np.linspace(2, 5.5)\n",
    "# ys = dist.pdf(xs)\n",
    "\n",
    "# # Plot the model PDF\n",
    "# plt.clf()\n",
    "# plt.plot(xs, ys, color='gray')\n",
    "\n",
    "# # Plot the data KDE\n",
    "# sns.kdeplot(log_income)\n",
    "    \n",
    "# # Label the axes\n",
    "# plt.xlabel('log10 of realinc')\n",
    "# plt.ylabel('PDF')\n",
    "# plt.show()"
   ]
  },
  {
   "cell_type": "code",
   "execution_count": null,
   "id": "39125292",
   "metadata": {},
   "outputs": [],
   "source": []
  },
  {
   "cell_type": "code",
   "execution_count": null,
   "id": "4667fa16",
   "metadata": {},
   "outputs": [],
   "source": []
  },
  {
   "cell_type": "code",
   "execution_count": null,
   "id": "2503955e",
   "metadata": {},
   "outputs": [],
   "source": []
  }
 ],
 "metadata": {
  "kernelspec": {
   "display_name": "Python 3 (ipykernel)",
   "language": "python",
   "name": "python3"
  },
  "language_info": {
   "codemirror_mode": {
    "name": "ipython",
    "version": 3
   },
   "file_extension": ".py",
   "mimetype": "text/x-python",
   "name": "python",
   "nbconvert_exporter": "python",
   "pygments_lexer": "ipython3",
   "version": "3.9.12"
  }
 },
 "nbformat": 4,
 "nbformat_minor": 5
}
